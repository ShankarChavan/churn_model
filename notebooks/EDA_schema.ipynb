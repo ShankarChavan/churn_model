{
 "cells": [
  {
   "cell_type": "code",
   "execution_count": 1,
   "id": "788b1c7d",
   "metadata": {},
   "outputs": [],
   "source": [
    "import pandas as pd"
   ]
  },
  {
   "cell_type": "code",
   "execution_count": 2,
   "id": "c8b3e1ec",
   "metadata": {},
   "outputs": [],
   "source": [
    "df=pd.read_csv('../data/raw/churn_data.csv')"
   ]
  },
  {
   "cell_type": "code",
   "execution_count": 3,
   "id": "284e3e1c",
   "metadata": {},
   "outputs": [
    {
     "data": {
      "text/html": [
       "<div>\n",
       "<style scoped>\n",
       "    .dataframe tbody tr th:only-of-type {\n",
       "        vertical-align: middle;\n",
       "    }\n",
       "\n",
       "    .dataframe tbody tr th {\n",
       "        vertical-align: top;\n",
       "    }\n",
       "\n",
       "    .dataframe thead th {\n",
       "        text-align: right;\n",
       "    }\n",
       "</style>\n",
       "<table border=\"1\" class=\"dataframe\">\n",
       "  <thead>\n",
       "    <tr style=\"text-align: right;\">\n",
       "      <th></th>\n",
       "      <th>churn</th>\n",
       "      <th>number_vmail_messages</th>\n",
       "      <th>total_day_calls</th>\n",
       "      <th>total_eve_minutes</th>\n",
       "      <th>total_eve_charge</th>\n",
       "      <th>total_intl_minutes</th>\n",
       "      <th>number_customer_service_calls</th>\n",
       "    </tr>\n",
       "  </thead>\n",
       "  <tbody>\n",
       "    <tr>\n",
       "      <th>0</th>\n",
       "      <td>no</td>\n",
       "      <td>26</td>\n",
       "      <td>123</td>\n",
       "      <td>195.5</td>\n",
       "      <td>16.62</td>\n",
       "      <td>13.7</td>\n",
       "      <td>1</td>\n",
       "    </tr>\n",
       "    <tr>\n",
       "      <th>1</th>\n",
       "      <td>no</td>\n",
       "      <td>0</td>\n",
       "      <td>114</td>\n",
       "      <td>121.2</td>\n",
       "      <td>10.30</td>\n",
       "      <td>12.2</td>\n",
       "      <td>0</td>\n",
       "    </tr>\n",
       "    <tr>\n",
       "      <th>2</th>\n",
       "      <td>no</td>\n",
       "      <td>0</td>\n",
       "      <td>71</td>\n",
       "      <td>61.9</td>\n",
       "      <td>5.26</td>\n",
       "      <td>6.6</td>\n",
       "      <td>2</td>\n",
       "    </tr>\n",
       "    <tr>\n",
       "      <th>3</th>\n",
       "      <td>no</td>\n",
       "      <td>0</td>\n",
       "      <td>113</td>\n",
       "      <td>148.3</td>\n",
       "      <td>12.61</td>\n",
       "      <td>10.1</td>\n",
       "      <td>3</td>\n",
       "    </tr>\n",
       "    <tr>\n",
       "      <th>4</th>\n",
       "      <td>no</td>\n",
       "      <td>24</td>\n",
       "      <td>88</td>\n",
       "      <td>348.5</td>\n",
       "      <td>29.62</td>\n",
       "      <td>7.5</td>\n",
       "      <td>3</td>\n",
       "    </tr>\n",
       "  </tbody>\n",
       "</table>\n",
       "</div>"
      ],
      "text/plain": [
       "  churn  number_vmail_messages  total_day_calls  total_eve_minutes  \\\n",
       "0    no                     26              123              195.5   \n",
       "1    no                      0              114              121.2   \n",
       "2    no                      0               71               61.9   \n",
       "3    no                      0              113              148.3   \n",
       "4    no                     24               88              348.5   \n",
       "\n",
       "   total_eve_charge  total_intl_minutes  number_customer_service_calls  \n",
       "0             16.62                13.7                              1  \n",
       "1             10.30                12.2                              0  \n",
       "2              5.26                 6.6                              2  \n",
       "3             12.61                10.1                              3  \n",
       "4             29.62                 7.5                              3  "
      ]
     },
     "execution_count": 3,
     "metadata": {},
     "output_type": "execute_result"
    }
   ],
   "source": [
    "df.head()"
   ]
  },
  {
   "cell_type": "code",
   "execution_count": 4,
   "id": "eaa3feab",
   "metadata": {},
   "outputs": [
    {
     "data": {
      "text/plain": [
       "Index(['churn', 'number_vmail_messages', 'total_day_calls',\n",
       "       'total_eve_minutes', 'total_eve_charge', 'total_intl_minutes',\n",
       "       'number_customer_service_calls'],\n",
       "      dtype='object')"
      ]
     },
     "execution_count": 4,
     "metadata": {},
     "output_type": "execute_result"
    }
   ],
   "source": [
    "df.columns"
   ]
  },
  {
   "cell_type": "code",
   "execution_count": 5,
   "id": "17d7ae75",
   "metadata": {},
   "outputs": [
    {
     "data": {
      "text/html": [
       "<div>\n",
       "<style scoped>\n",
       "    .dataframe tbody tr th:only-of-type {\n",
       "        vertical-align: middle;\n",
       "    }\n",
       "\n",
       "    .dataframe tbody tr th {\n",
       "        vertical-align: top;\n",
       "    }\n",
       "\n",
       "    .dataframe thead th {\n",
       "        text-align: right;\n",
       "    }\n",
       "</style>\n",
       "<table border=\"1\" class=\"dataframe\">\n",
       "  <thead>\n",
       "    <tr style=\"text-align: right;\">\n",
       "      <th></th>\n",
       "      <th>count</th>\n",
       "      <th>mean</th>\n",
       "      <th>std</th>\n",
       "      <th>min</th>\n",
       "      <th>25%</th>\n",
       "      <th>50%</th>\n",
       "      <th>75%</th>\n",
       "      <th>max</th>\n",
       "    </tr>\n",
       "  </thead>\n",
       "  <tbody>\n",
       "    <tr>\n",
       "      <th>number_vmail_messages</th>\n",
       "      <td>4250.0</td>\n",
       "      <td>7.631765</td>\n",
       "      <td>13.439882</td>\n",
       "      <td>0.0</td>\n",
       "      <td>0.0000</td>\n",
       "      <td>0.00</td>\n",
       "      <td>16.0000</td>\n",
       "      <td>52.00</td>\n",
       "    </tr>\n",
       "    <tr>\n",
       "      <th>total_day_calls</th>\n",
       "      <td>4250.0</td>\n",
       "      <td>99.907294</td>\n",
       "      <td>19.850817</td>\n",
       "      <td>0.0</td>\n",
       "      <td>87.0000</td>\n",
       "      <td>100.00</td>\n",
       "      <td>113.0000</td>\n",
       "      <td>165.00</td>\n",
       "    </tr>\n",
       "    <tr>\n",
       "      <th>total_eve_minutes</th>\n",
       "      <td>4250.0</td>\n",
       "      <td>200.173906</td>\n",
       "      <td>50.249518</td>\n",
       "      <td>0.0</td>\n",
       "      <td>165.9250</td>\n",
       "      <td>200.70</td>\n",
       "      <td>233.7750</td>\n",
       "      <td>359.30</td>\n",
       "    </tr>\n",
       "    <tr>\n",
       "      <th>total_eve_charge</th>\n",
       "      <td>4250.0</td>\n",
       "      <td>17.015012</td>\n",
       "      <td>4.271212</td>\n",
       "      <td>0.0</td>\n",
       "      <td>14.1025</td>\n",
       "      <td>17.06</td>\n",
       "      <td>19.8675</td>\n",
       "      <td>30.54</td>\n",
       "    </tr>\n",
       "    <tr>\n",
       "      <th>total_intl_minutes</th>\n",
       "      <td>4250.0</td>\n",
       "      <td>10.256071</td>\n",
       "      <td>2.760102</td>\n",
       "      <td>0.0</td>\n",
       "      <td>8.5000</td>\n",
       "      <td>10.30</td>\n",
       "      <td>12.0000</td>\n",
       "      <td>20.00</td>\n",
       "    </tr>\n",
       "    <tr>\n",
       "      <th>number_customer_service_calls</th>\n",
       "      <td>4250.0</td>\n",
       "      <td>1.559059</td>\n",
       "      <td>1.311434</td>\n",
       "      <td>0.0</td>\n",
       "      <td>1.0000</td>\n",
       "      <td>1.00</td>\n",
       "      <td>2.0000</td>\n",
       "      <td>9.00</td>\n",
       "    </tr>\n",
       "  </tbody>\n",
       "</table>\n",
       "</div>"
      ],
      "text/plain": [
       "                                count        mean        std  min       25%  \\\n",
       "number_vmail_messages          4250.0    7.631765  13.439882  0.0    0.0000   \n",
       "total_day_calls                4250.0   99.907294  19.850817  0.0   87.0000   \n",
       "total_eve_minutes              4250.0  200.173906  50.249518  0.0  165.9250   \n",
       "total_eve_charge               4250.0   17.015012   4.271212  0.0   14.1025   \n",
       "total_intl_minutes             4250.0   10.256071   2.760102  0.0    8.5000   \n",
       "number_customer_service_calls  4250.0    1.559059   1.311434  0.0    1.0000   \n",
       "\n",
       "                                  50%       75%     max  \n",
       "number_vmail_messages            0.00   16.0000   52.00  \n",
       "total_day_calls                100.00  113.0000  165.00  \n",
       "total_eve_minutes              200.70  233.7750  359.30  \n",
       "total_eve_charge                17.06   19.8675   30.54  \n",
       "total_intl_minutes              10.30   12.0000   20.00  \n",
       "number_customer_service_calls    1.00    2.0000    9.00  "
      ]
     },
     "execution_count": 5,
     "metadata": {},
     "output_type": "execute_result"
    }
   ],
   "source": [
    "df.describe().T"
   ]
  },
  {
   "cell_type": "code",
   "execution_count": 6,
   "id": "d7cea2b7",
   "metadata": {},
   "outputs": [],
   "source": [
    "overview = df.describe()"
   ]
  },
  {
   "cell_type": "code",
   "execution_count": 10,
   "id": "965d51e0",
   "metadata": {},
   "outputs": [],
   "source": [
    "overview.loc[[\"min\", \"max\"]].to_json(\"schema_in.json\")"
   ]
  },
  {
   "cell_type": "code",
   "execution_count": 7,
   "id": "b30e4676",
   "metadata": {},
   "outputs": [],
   "source": [
    "import json"
   ]
  },
  {
   "cell_type": "code",
   "execution_count": 8,
   "id": "f0dbd455",
   "metadata": {},
   "outputs": [
    {
     "data": {
      "text/plain": [
       "{'number_vmail_messages': {'min': 0.0, 'max': 52.0},\n",
       " 'total_day_calls': {'min': 0.0, 'max': 165.0},\n",
       " 'total_eve_minutes': {'min': 0.0, 'max': 359.3},\n",
       " 'total_eve_charge': {'min': 0.0, 'max': 30.54},\n",
       " 'total_intl_minutes': {'min': 0.0, 'max': 20.0},\n",
       " 'number_customer_service_calls': {'min': 0.0, 'max': 9.0}}"
      ]
     },
     "metadata": {},
     "output_type": "display_data"
    }
   ],
   "source": [
    "def get_schema(schema_path=\"schema_in.json\"):\n",
    "    with open(schema_path) as json_file:\n",
    "        schema = json.load(json_file)\n",
    "    return schema\n",
    "schema=get_schema()\n",
    "display(schema)"
   ]
  },
  {
   "cell_type": "markdown",
   "id": "fc967c09",
   "metadata": {},
   "source": [
    "# Create validator class using the above min and max range"
   ]
  },
  {
   "cell_type": "code",
   "execution_count": 30,
   "id": "b94a10a5",
   "metadata": {},
   "outputs": [],
   "source": [
    "from pydantic import BaseModel,Field\n"
   ]
  },
  {
   "cell_type": "code",
   "execution_count": 32,
   "id": "3beaca1e",
   "metadata": {},
   "outputs": [],
   "source": [
    "class churnModelFeilds(BaseModel):\n",
    "    number_vmail_messages:float = Field(..., ge=0.0, le=52.0)\n",
    "    total_day_calls:float= Field(...,ge= 0.0, le= 165.0)\n",
    "    total_eve_minutes:float= Field(...,ge = 0.0, le= 359.3)\n",
    "    total_eve_charge:float= Field(...,ge = 0.0, le= 30.54)\n",
    "    total_intl_minutes:float= Field(...,ge = 0.0, le= 20.0)\n",
    "    number_customer_service_calls:float= Field(...,ge= 0.0, le= 9.0)\n",
    "    \n",
    "    class Config:\n",
    "        validate_assignment = True\n"
   ]
  },
  {
   "cell_type": "code",
   "execution_count": 33,
   "id": "f390f53a",
   "metadata": {},
   "outputs": [],
   "source": [
    "x=churnModelFeilds(number_vmail_messages=52,total_day_calls=162,total_eve_minutes=356,total_eve_charge=19,total_intl_minutes=15,number_customer_service_calls=5)"
   ]
  },
  {
   "cell_type": "code",
   "execution_count": 34,
   "id": "8b43dba9",
   "metadata": {},
   "outputs": [
    {
     "data": {
      "text/plain": [
       "{'number_vmail_messages': 52.0,\n",
       " 'total_day_calls': 162.0,\n",
       " 'total_eve_minutes': 356.0,\n",
       " 'total_eve_charge': 19.0,\n",
       " 'total_intl_minutes': 15.0,\n",
       " 'number_customer_service_calls': 5.0}"
      ]
     },
     "execution_count": 34,
     "metadata": {},
     "output_type": "execute_result"
    }
   ],
   "source": [
    "x.dict()"
   ]
  },
  {
   "cell_type": "code",
   "execution_count": null,
   "id": "a31850b5",
   "metadata": {},
   "outputs": [],
   "source": []
  }
 ],
 "metadata": {
  "kernelspec": {
   "display_name": "Python 3 (ipykernel)",
   "language": "python",
   "name": "python3"
  },
  "language_info": {
   "codemirror_mode": {
    "name": "ipython",
    "version": 3
   },
   "file_extension": ".py",
   "mimetype": "text/x-python",
   "name": "python",
   "nbconvert_exporter": "python",
   "pygments_lexer": "ipython3",
   "version": "3.7.15"
  }
 },
 "nbformat": 4,
 "nbformat_minor": 5
}
